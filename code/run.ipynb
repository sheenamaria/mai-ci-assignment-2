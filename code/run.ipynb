{
 "cells": [
  {
   "cell_type": "markdown",
   "metadata": {},
   "source": [
    "# Load Dataset\n",
    "\n",
    "- Preprocess\n",
    "- Build splits (Training/Validation/Testing):\n",
    "  - 80/10/10\n",
    "  - 40/20/40\n",
    "  - 10/10/80"
   ]
  },
  {
   "cell_type": "markdown",
   "metadata": {},
   "source": [
    "# Hyperparameter Search\n",
    "\n",
    "- OL Activation function\n",
    "- CFL Cost Function\n",
    "- Max number of epochs\n",
    "- L2 Regularization (if any)\n",
    "- ADAM decay factor"
   ]
  },
  {
   "cell_type": "markdown",
   "metadata": {},
   "source": [
    "# CNN Results\n",
    "\n",
    "Loop over configurations:\n",
    "1. Architecture:\n",
    "  - 1 Block: 128 Filter Size\n",
    "  - 3 Blocks: 32, 64 and 128 Filter Sizes\n",
    "2. Activations:\n",
    "  - Sigmoid\n",
    "  - ReLU\n",
    "3. Dataset Splits."
   ]
  },
  {
   "cell_type": "markdown",
   "metadata": {},
   "source": [
    "# CNN Analysis"
   ]
  },
  {
   "cell_type": "markdown",
   "metadata": {},
   "source": [
    "Plots and tables comparing the configurations"
   ]
  }
 ],
 "metadata": {
  "language_info": {
   "name": "python"
  }
 },
 "nbformat": 4,
 "nbformat_minor": 2
}
